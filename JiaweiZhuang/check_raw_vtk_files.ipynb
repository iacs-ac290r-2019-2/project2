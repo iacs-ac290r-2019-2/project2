{
 "cells": [
  {
   "cell_type": "markdown",
   "metadata": {},
   "source": [
    "# Check raw VTK files"
   ]
  },
  {
   "cell_type": "code",
   "execution_count": 1,
   "metadata": {},
   "outputs": [],
   "source": [
    "import glob"
   ]
  },
  {
   "cell_type": "markdown",
   "metadata": {},
   "source": [
    "# Original VTK file information"
   ]
  },
  {
   "cell_type": "markdown",
   "metadata": {},
   "source": [
    "## Data locations"
   ]
  },
  {
   "cell_type": "code",
   "execution_count": 2,
   "metadata": {},
   "outputs": [
    {
     "name": "stdout",
     "output_type": "stream",
     "text": [
      "bgkflag.1.ios  bgkflag.hdr     \u001b[0m\u001b[01;34mDIRDATA_Drug\u001b[0m/  \u001b[01;32mrun2.py\u001b[0m*\n",
      "bgkflag.2.ios  bgkflag.xyz     err.txt        slurm-7875866.out\n",
      "bgkflag.dat    \u001b[01;34mDIRDATA_Blood\u001b[0m/  out.txt        submit.sh\n"
     ]
    }
   ],
   "source": [
    "ls /n/scratchlfs/ac290r/p2_re5_pe1"
   ]
  },
  {
   "cell_type": "code",
   "execution_count": 3,
   "metadata": {},
   "outputs": [
    {
     "name": "stdout",
     "output_type": "stream",
     "text": [
      "bgkflag.1.ios  bgkflag.hdr     \u001b[0m\u001b[01;34mDIRDATA_Drug\u001b[0m/  \u001b[01;32mrun2.py\u001b[0m*\n",
      "bgkflag.2.ios  bgkflag.xyz     err.txt        slurm-7875872.out\n",
      "bgkflag.dat    \u001b[01;34mDIRDATA_Blood\u001b[0m/  out.txt        submit.sh\n"
     ]
    }
   ],
   "source": [
    "ls /n/scratchlfs/ac290r/p2_re5_pe10"
   ]
  },
  {
   "cell_type": "code",
   "execution_count": 4,
   "metadata": {},
   "outputs": [
    {
     "name": "stdout",
     "output_type": "stream",
     "text": [
      "bgkflag.1.ios  bgkflag.hdr     \u001b[0m\u001b[01;34mDIRDATA_Drug\u001b[0m/  out.txt            submit.sh\n",
      "bgkflag.2.ios  bgkflag.xyz     err.txt        \u001b[01;32mrun2.py\u001b[0m*\n",
      "bgkflag.dat    \u001b[01;34mDIRDATA_Blood\u001b[0m/  \u001b[01;34mMAGIC\u001b[0m/         slurm-7885067.out\n"
     ]
    }
   ],
   "source": [
    "ls /n/scratchlfs/ac290r/p2_re10_pe1"
   ]
  },
  {
   "cell_type": "code",
   "execution_count": 5,
   "metadata": {},
   "outputs": [
    {
     "name": "stdout",
     "output_type": "stream",
     "text": [
      "bgkflag.1.ios  bgkflag.hdr     \u001b[0m\u001b[01;34mDIRDATA_Drug\u001b[0m/  \u001b[01;32mrun2.py\u001b[0m*\n",
      "bgkflag.2.ios  bgkflag.xyz     err.txt        slurm-7983640.out\n",
      "bgkflag.dat    \u001b[01;34mDIRDATA_Blood\u001b[0m/  out.txt        submit.sh\n"
     ]
    }
   ],
   "source": [
    "ls /n/scratchlfs/ac290r/p2_re10_pe10"
   ]
  },
  {
   "cell_type": "markdown",
   "metadata": {},
   "source": [
    "## Raw data size"
   ]
  },
  {
   "cell_type": "markdown",
   "metadata": {},
   "source": [
    "### One time-step data size"
   ]
  },
  {
   "cell_type": "code",
   "execution_count": 6,
   "metadata": {},
   "outputs": [
    {
     "name": "stdout",
     "output_type": "stream",
     "text": [
      "124M\t/n/scratchlfs/ac290r/p2_re5_pe1/DIRDATA_Blood/VTK/T0000001000\n"
     ]
    }
   ],
   "source": [
    "!du -sh /n/scratchlfs/ac290r/p2_re5_pe1/DIRDATA_Blood/VTK/T0000001000 "
   ]
  },
  {
   "cell_type": "code",
   "execution_count": 7,
   "metadata": {},
   "outputs": [
    {
     "name": "stdout",
     "output_type": "stream",
     "text": [
      "100M\t/n/scratchlfs/ac290r/p2_re5_pe1/DIRDATA_Drug/VTK/T0000001000\n"
     ]
    }
   ],
   "source": [
    "!du -sh /n/scratchlfs/ac290r/p2_re5_pe1/DIRDATA_Drug/VTK/T0000001000 "
   ]
  },
  {
   "cell_type": "code",
   "execution_count": 8,
   "metadata": {},
   "outputs": [
    {
     "name": "stdout",
     "output_type": "stream",
     "text": [
      "973M\t/n/scratchlfs/ac290r/p2_re10_pe1/DIRDATA_Blood/VTK/T0000001000\n"
     ]
    }
   ],
   "source": [
    "!du -sh /n/scratchlfs/ac290r/p2_re10_pe1/DIRDATA_Blood/VTK/T0000001000"
   ]
  },
  {
   "cell_type": "code",
   "execution_count": 9,
   "metadata": {},
   "outputs": [
    {
     "name": "stdout",
     "output_type": "stream",
     "text": [
      "780M\t/n/scratchlfs/ac290r/p2_re10_pe1/DIRDATA_Drug/VTK/T0000001000\n"
     ]
    }
   ],
   "source": [
    "!du -sh /n/scratchlfs/ac290r/p2_re10_pe1/DIRDATA_Drug/VTK/T0000001000"
   ]
  },
  {
   "cell_type": "markdown",
   "metadata": {},
   "source": [
    "`pe10` has the same size as `pe1`"
   ]
  },
  {
   "cell_type": "markdown",
   "metadata": {},
   "source": [
    "### Number of time steps"
   ]
  },
  {
   "cell_type": "code",
   "execution_count": 10,
   "metadata": {},
   "outputs": [],
   "source": [
    "def sglob(pathname):\n",
    "    '''Sorted glob'''\n",
    "    return sorted(glob.glob(pathname))"
   ]
  },
  {
   "cell_type": "code",
   "execution_count": 11,
   "metadata": {},
   "outputs": [],
   "source": [
    "filelist_drug_re5pe1 = sglob('/n/scratchlfs/ac290r/p2_re5_pe1/DIRDATA_Drug/VTK/*.pvtu')\n",
    "filelist_drug_re5pe10 = sglob('/n/scratchlfs/ac290r/p2_re5_pe10/DIRDATA_Drug/VTK/*.pvtu')\n",
    "filelist_drug_re10pe1 = sglob('/n/scratchlfs/ac290r/p2_re10_pe1/DIRDATA_Drug/VTK/*.pvtu')\n",
    "filelist_drug_re10pe10 = sglob('/n/scratchlfs/ac290r/p2_re10_pe10/DIRDATA_Drug/VTK/*.pvtu')"
   ]
  },
  {
   "cell_type": "code",
   "execution_count": 12,
   "metadata": {},
   "outputs": [],
   "source": [
    "filelist_bld_re5pe1 = sglob('/n/scratchlfs/ac290r/p2_re5_pe1/DIRDATA_Blood/VTK/*.pvtu')\n",
    "filelist_bld_re5pe10 = sglob('/n/scratchlfs/ac290r/p2_re5_pe10/DIRDATA_Blood/VTK/*.pvtu')\n",
    "filelist_bld_re10pe1 = sglob('/n/scratchlfs/ac290r/p2_re10_pe1/DIRDATA_Blood/VTK/*.pvtu')\n",
    "filelist_bld_re10pe10 = sglob('/n/scratchlfs/ac290r/p2_re10_pe10/DIRDATA_Blood/VTK/*.pvtu')"
   ]
  },
  {
   "cell_type": "code",
   "execution_count": 13,
   "metadata": {},
   "outputs": [
    {
     "data": {
      "text/plain": [
       "(4000, 4000, 1266, 1372)"
      ]
     },
     "execution_count": 13,
     "metadata": {},
     "output_type": "execute_result"
    }
   ],
   "source": [
    "len(filelist_drug_re5pe1), len(filelist_drug_re5pe10), len(filelist_drug_re10pe1), len(filelist_drug_re10pe10)"
   ]
  },
  {
   "cell_type": "markdown",
   "metadata": {},
   "source": [
    "The total size would be \n",
    "- `224MB * 4000 = 900 GB` for each `re5` case\n",
    "- `1753MB * 4000 = 7000 GB` for each `re10` case (if all finished)"
   ]
  },
  {
   "cell_type": "markdown",
   "metadata": {},
   "source": [
    "### Naming convention"
   ]
  },
  {
   "cell_type": "code",
   "execution_count": 14,
   "metadata": {},
   "outputs": [
    {
     "data": {
      "text/plain": [
       "(['/n/scratchlfs/ac290r/p2_re5_pe1/DIRDATA_Drug/VTK/T0000001000.pvtu',\n",
       "  '/n/scratchlfs/ac290r/p2_re5_pe1/DIRDATA_Drug/VTK/T0000002000.pvtu',\n",
       "  '/n/scratchlfs/ac290r/p2_re5_pe1/DIRDATA_Drug/VTK/T0000003000.pvtu'],\n",
       " ['/n/scratchlfs/ac290r/p2_re5_pe1/DIRDATA_Drug/VTK/T0003998000.pvtu',\n",
       "  '/n/scratchlfs/ac290r/p2_re5_pe1/DIRDATA_Drug/VTK/T0003999000.pvtu',\n",
       "  '/n/scratchlfs/ac290r/p2_re5_pe1/DIRDATA_Drug/VTK/T0004000000.pvtu'])"
      ]
     },
     "execution_count": 14,
     "metadata": {},
     "output_type": "execute_result"
    }
   ],
   "source": [
    "filelist_drug_re5pe1[:3], filelist_drug_re5pe1[-3:]"
   ]
  },
  {
   "cell_type": "code",
   "execution_count": 15,
   "metadata": {},
   "outputs": [
    {
     "data": {
      "text/plain": [
       "'T0004000000'"
      ]
     },
     "execution_count": 15,
     "metadata": {},
     "output_type": "execute_result"
    }
   ],
   "source": [
    "filelist_drug_re5pe1[-1][-16:-5]  # time stamp"
   ]
  },
  {
   "cell_type": "code",
   "execution_count": 16,
   "metadata": {},
   "outputs": [
    {
     "data": {
      "text/plain": [
       "'04000000'"
      ]
     },
     "execution_count": 16,
     "metadata": {},
     "output_type": "execute_result"
    }
   ],
   "source": [
    "filelist_drug_re5pe1[-1][-13:-5]  # truncated time stamp"
   ]
  },
  {
   "cell_type": "markdown",
   "metadata": {},
   "source": [
    "# Prepare empty directory to host processed & compressed NetCDF files"
   ]
  },
  {
   "cell_type": "code",
   "execution_count": 17,
   "metadata": {},
   "outputs": [],
   "source": [
    "%%bash\n",
    "# make empty directory for hosting data\n",
    "TOPDIR=/n/scratchlfs/ac290r/p2_data_postprocess/\n",
    "\n",
    "mkdir -p $TOPDIR\n",
    "\n",
    "for CASE in re10_pe1 re10_pe10 re5_pe1 re5_pe10\n",
    "do\n",
    "    # echo $TOPDIR$CASE/blood\n",
    "    mkdir -p $TOPDIR$CASE/blood\n",
    "    mkdir -p $TOPDIR$CASE/drug\n",
    "done\n",
    "\n",
    "echo 'Processed & compressed data for Project Group 2' > $TOPDIR/README"
   ]
  },
  {
   "cell_type": "code",
   "execution_count": 18,
   "metadata": {},
   "outputs": [
    {
     "name": "stdout",
     "output_type": "stream",
     "text": [
      "\u001b[0m\u001b[01;34mre10_pe1\u001b[0m/  \u001b[01;34mre10_pe10\u001b[0m/  \u001b[01;34mre5_pe1\u001b[0m/  \u001b[01;34mre5_pe10\u001b[0m/  \u001b[01;34mre5_pe1_backup\u001b[0m/  README\n"
     ]
    }
   ],
   "source": [
    "ls /n/scratchlfs/ac290r/p2_data_postprocess/  # destination directory"
   ]
  },
  {
   "cell_type": "code",
   "execution_count": 19,
   "metadata": {},
   "outputs": [
    {
     "name": "stdout",
     "output_type": "stream",
     "text": [
      "Processed & compressed data for Project Group 2\n"
     ]
    }
   ],
   "source": [
    "!cat /n/scratchlfs/ac290r/p2_data_postprocess/README"
   ]
  }
 ],
 "metadata": {
  "kernelspec": {
   "display_name": "Python 3",
   "language": "python",
   "name": "python3"
  },
  "language_info": {
   "codemirror_mode": {
    "name": "ipython",
    "version": 3
   },
   "file_extension": ".py",
   "mimetype": "text/x-python",
   "name": "python",
   "nbconvert_exporter": "python",
   "pygments_lexer": "ipython3",
   "version": "3.7.3"
  }
 },
 "nbformat": 4,
 "nbformat_minor": 2
}
